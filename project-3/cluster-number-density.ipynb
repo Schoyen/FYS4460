{
 "cells": [
  {
   "cell_type": "markdown",
   "metadata": {},
   "source": [
    "# Generating the cluster number density\n",
    "\n",
    "We will compute the cluster number density, $n(s, p)$, from sets of percolating two-dimensional clusters. As the cluster number density is not known analytically in all but the simplest systems, i.e., the infinite dimensional and the one-dimensional system, we will estimate it numerically. This is done by\n",
    "\\begin{align}\n",
    "    n(s, p; L) \\approx \\frac{N_s}{ML^d},\n",
    "\\end{align}\n",
    "where $s$ is the size of the cluster, $p$ the probability for a site to be set in the system, $L$ the length of a side in the system (assuming equal lengths for all sides), $d$ the dimension of the problem ($L^d$ is the volume), $N_s$ the number of clusters of size $s$ and $M$ the number of simulations performed."
   ]
  },
  {
   "cell_type": "code",
   "execution_count": 1,
   "metadata": {
    "collapsed": true
   },
   "outputs": [],
   "source": [
    "import numpy as np\n",
    "import matplotlib.pyplot as plt\n",
    "import scipy.ndimage\n",
    "import skimage\n",
    "import tqdm\n",
    "import sklearn.linear_model"
   ]
  },
  {
   "cell_type": "code",
   "execution_count": 2,
   "metadata": {
    "collapsed": true
   },
   "outputs": [],
   "source": [
    "def is_percolating(prop, num_rows, num_cols):\n",
    "    min_row, min_col, max_row, max_col = prop.bbox\n",
    "\n",
    "    return max_row - min_row == num_rows or max_col - min_col == num_cols"
   ]
  },
  {
   "cell_type": "code",
   "execution_count": 3,
   "metadata": {
    "collapsed": true
   },
   "outputs": [],
   "source": [
    "def compute_cluster_area(system, p, remove_percolating_cluster=True):\n",
    "    mat = system < p\n",
    "    # Label and count the number of connected clusters\n",
    "    labels, num_features = scipy.ndimage.measurements.label(mat)\n",
    "    s_list = skimage.measure.regionprops(labels)\n",
    "\n",
    "    new_s_list = []\n",
    "    if remove_percolating_cluster:\n",
    "        for s in s_list:\n",
    "            if is_percolating(s, *system.shape):\n",
    "                continue\n",
    "            new_s_list.append(s)\n",
    "    else:\n",
    "        new_s_list = s_list\n",
    "            \n",
    "    area = list(map(lambda prop: prop.area, new_s_list))\n",
    "\n",
    "    return area"
   ]
  },
  {
   "cell_type": "markdown",
   "metadata": {},
   "source": [
    "Example code to plot a specific prop in a system.\n",
    "\n",
    "```python\n",
    "box = s[1].bbox\n",
    "plt.matshow(labels[box[0]:box[2], box[1]:box[3]], cmap=\"hsv\")\n",
    "plt.show()\n",
    "```"
   ]
  },
  {
   "cell_type": "code",
   "execution_count": 4,
   "metadata": {
    "collapsed": true
   },
   "outputs": [],
   "source": [
    "def compute_cluster_number_density(L, M, p, a=1.2):\n",
    "    area = []\n",
    "    for i in range(M):\n",
    "        z = np.random.rand(L, L)\n",
    "        area.extend(compute_cluster_area(z, p))\n",
    "\n",
    "    n, s = np.histogram(area, L ** 2)\n",
    "\n",
    "    nsp = n / (L ** 2 * M)\n",
    "\n",
    "    # Logarithmic binning\n",
    "    logamax = np.ceil(np.log(max(s)) / np.log(a))\n",
    "    bins = a ** np.arange(0, logamax, 1)\n",
    "\n",
    "    nl, _ = np.histogram(area, bins)\n",
    "    ds = np.diff(bins)\n",
    "    sl = (bins[1:] + bins[:-1]) * 0.5\n",
    "    nsl = nl / (M * L ** 2 * ds)\n",
    "\n",
    "    return sl, nsl"
   ]
  },
  {
   "cell_type": "markdown",
   "metadata": {},
   "source": [
    "Below we plot the cluster number density as $p \\to p_c = 0.59275$ from below."
   ]
  },
  {
   "cell_type": "code",
   "execution_count": 5,
   "metadata": {},
   "outputs": [
    {
     "data": {
      "image/png": "[encoded data removed]",
      "text/plain": [
       "<matplotlib.figure.Figure at 0x116d9ca90>"
      ]
     },
     "metadata": {},
     "output_type": "display_data"
    }
   ],
   "source": [
    "for p in np.linspace(0.3, 0.59275, 4):\n",
    "    plt.loglog(\n",
    "        *compute_cluster_number_density(200, 100, p),\n",
    "        \"o\",\n",
    "        label=rf\"$p = {p:.5f}$\"\n",
    "    )\n",
    "\n",
    "plt.legend()\n",
    "plt.grid()\n",
    "plt.title(\"Cluster number density for $p \\to p_c$ from below\")\n",
    "plt.xlabel(r\"$\\log(s)$\")\n",
    "plt.ylabel(r\"$\\log(n(s, p))$\")\n",
    "plt.show()"
   ]
  },
  {
   "cell_type": "markdown",
   "metadata": {},
   "source": [
    "In this figure we can see how the cluster number density follows a seemingly straight line for a while, before dropping of sharply when $p$ is a little off from the critical percolation probability. This shows how the cluster number density at the critical percolation probability follows a power law as the axes are logarithmic."
   ]
  },
  {
   "cell_type": "markdown",
   "metadata": {},
   "source": [
    "Here we repeat the experiment, but for $p \\to p_c$ from above."
   ]
  },
  {
   "cell_type": "code",
   "execution_count": 6,
   "metadata": {},
   "outputs": [
    {
     "data": {
      "image/png": "[encoded data removed]",
      "text/plain": [
       "<matplotlib.figure.Figure at 0x118046a58>"
      ]
     },
     "metadata": {},
     "output_type": "display_data"
    }
   ],
   "source": [
    "for p in reversed(np.linspace(0.59275, 0.7, 4)):\n",
    "    plt.loglog(\n",
    "        *compute_cluster_number_density(200, 100, p),\n",
    "        \"o\",\n",
    "        label=rf\"$p = {p:.5f}$\"\n",
    "    )\n",
    "\n",
    "plt.legend()\n",
    "plt.grid()\n",
    "plt.title(\"Cluster number density for $p \\to p_c$ from above\")\n",
    "plt.xlabel(r\"$\\log(s)$\")\n",
    "plt.ylabel(r\"$\\log(n(s, p))$\")\n",
    "plt.show()"
   ]
  },
  {
   "cell_type": "markdown",
   "metadata": {},
   "source": [
    "## The cluster number density at critical percolation probability\n",
    "\n",
    "For $p = p_c = 0.59275$, we explore how the cluster number density changes for a system of $L = 2^k$ for $k = \\{4, \\dots, 9\\}$. We wish to show how the cluster number density deviates from the power law behavior, when $p = p_c$. We expect that\n",
    "\\begin{align}\n",
    "    n(s, p_c; L) \\propto s^{-\\tau}.\n",
    "\\end{align}\n",
    "By taking the logarithm on both sides, we get an expression for $\\tau$.\n",
    "\\begin{gather}\n",
    "    \\log\\left[n(s, p_c; L)\\right] \\propto -\\tau \\log\\left[ s \\right].\n",
    "\\end{gather}\n",
    "We use linear regression to get an estimate for $-\\tau$."
   ]
  },
  {
   "cell_type": "code",
   "execution_count": 7,
   "metadata": {
    "collapsed": true
   },
   "outputs": [],
   "source": [
    "L_arr = 2 ** np.arange(4, 10)\n",
    "p_c = 0.59275"
   ]
  },
  {
   "cell_type": "code",
   "execution_count": 10,
   "metadata": {},
   "outputs": [
    {
     "data": {
      "application/vnd.jupyter.widget-view+json": {
       "model_id": "a510154df6fe4ae48a5e6942c73b27be",
       "version_major": 2,
       "version_minor": 0
      },
      "text/plain": [
       "HBox(children=(IntProgress(value=0, max=6), HTML(value='')))"
      ]
     },
     "metadata": {},
     "output_type": "display_data"
    },
    {
     "name": "stdout",
     "output_type": "stream",
     "text": [
      "For L = 16: -tau = -0.0002665795003324802\n",
      "For L = 32: -tau = -4.1516921681746244e-05\n",
      "For L = 64: -tau = -6.337717147611106e-06\n",
      "For L = 128: -tau = -1.360304058052091e-06\n",
      "For L = 256: -tau = -3.790406331304759e-07\n",
      "For L = 512: -tau = -7.243462911378661e-08\n",
      "\n"
     ]
    }
   ],
   "source": [
    "for L in tqdm.tqdm_notebook(L_arr):\n",
    "    sl, nsl = compute_cluster_number_density(L, 100, p=p_c)\n",
    "\n",
    "    clf = sklearn.linear_model.LinearRegression(\n",
    "        fit_intercept=True\n",
    "    ).fit(sl[:, None], nsl[:, None])\n",
    "\n",
    "    tau = clf.coef_[0, 0]\n",
    "\n",
    "    print(f\"For L = {L}: -tau = {tau}\")"
   ]
  }
 ],
 "metadata": {
  "kernelspec": {
   "display_name": "Python 3",
   "language": "python",
   "name": "python3"
  },
  "language_info": {
   "codemirror_mode": {
    "name": "ipython",
    "version": 3
   },
   "file_extension": ".py",
   "mimetype": "text/x-python",
   "name": "python",
   "nbconvert_exporter": "python",
   "pygments_lexer": "ipython3",
   "version": "3.6.8"
  }
 },
 "nbformat": 4,
 "nbformat_minor": 2
}
