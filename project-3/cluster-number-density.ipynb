{
 "cells": [
  {
   "cell_type": "markdown",
   "metadata": {},
   "source": [
    "# Generating the cluster number density\n",
    "\n",
    "We will compute the cluster number density, $n(s, p)$, from sets of percolating two-dimensional clusters. As the cluster number density is not known analytically in all but the simplest systems, i.e., the infinite dimensional and the one-dimensional system, we will estimate it numerically. This is done by\n",
    "\\begin{align}\n",
    "    n(s, p; L) \\approx \\frac{N_s}{ML^d},\n",
    "\\end{align}\n",
    "where $s$ is the size of the cluster, $p$ the probability for a site to be set in the system, $L$ the length of a side in the system (assuming equal lengths for all sides), $d$ the dimension of the problem ($L^d$ is the volume), $N_s$ the number of clusters of size $s$ and $M$ the number of simulations performed."
   ]
  },
  {
   "cell_type": "code",
   "execution_count": 3,
   "metadata": {},
   "outputs": [],
   "source": [
    "import numpy as np\n",
    "import matplotlib.pyplot as plt\n",
    "import scipy.ndimage\n",
    "import skimage\n",
    "import tqdm"
   ]
  },
  {
   "cell_type": "code",
   "execution_count": 92,
   "metadata": {},
   "outputs": [],
   "source": [
    "def is_percolating(prop, num_rows, num_cols):\n",
    "    min_row, min_col, max_row, max_col = prop.bbox\n",
    "\n",
    "    return max_row - min_row == num_rows or max_col - min_col == num_cols"
   ]
  },
  {
   "cell_type": "code",
   "execution_count": 93,
   "metadata": {},
   "outputs": [],
   "source": [
    "def compute_cluster_area(system, p, remove_percolating_cluster=True):\n",
    "    mat = system < p\n",
    "    # Label and count the number of connected clusters\n",
    "    labels, num_features = scipy.ndimage.measurements.label(mat)\n",
    "    s_list = skimage.measure.regionprops(labels)\n",
    "\n",
    "    new_s_list = []\n",
    "    if remove_percolating_cluster:\n",
    "        for s in s_list:\n",
    "            if is_percolating(s, *system.shape):\n",
    "                continue\n",
    "            new_s_list.append(s)\n",
    "    else:\n",
    "        new_s_list = s_list\n",
    "            \n",
    "    area = list(map(lambda prop: prop.area, new_s_list))\n",
    "\n",
    "    return area"
   ]
  },
  {
   "cell_type": "markdown",
   "metadata": {},
   "source": [
    "Example code to plot a specific prop in a system.\n",
    "\n",
    "```python\n",
    "box = s[1].bbox\n",
    "plt.matshow(labels[box[0]:box[2], box[1]:box[3]], cmap=\"hsv\")\n",
    "plt.show()\n",
    "```"
   ]
  },
  {
   "cell_type": "code",
   "execution_count": 161,
   "metadata": {},
   "outputs": [],
   "source": [
    "def compute_cluster_number_density(L, M, p, a=1.2):\n",
    "    area = []\n",
    "    for i in range(M):\n",
    "        z = np.random.rand(L, L)\n",
    "        area.extend(compute_cluster_area(z, p))\n",
    "\n",
    "    n, s = np.histogram(area, L ** 2)\n",
    "\n",
    "    nsp = n / (L ** 2 * M)\n",
    "\n",
    "    logamax = np.ceil(np.log(max(s)) / np.log(a))\n",
    "    bins = a ** np.arange(0, logamax, 1)\n",
    "\n",
    "    nl, _ = np.histogram(area, bins)\n",
    "    ds = np.diff(bins)\n",
    "    sl = (bins[1:] + bins[:-1]) * 0.5\n",
    "    nsl = nl / (M * L ** 2 * ds)\n",
    "\n",
    "    return sl, nsl"
   ]
  },
  {
   "cell_type": "code",
   "execution_count": 166,
   "metadata": {},
   "outputs": [
    {
     "data": {
      "image/png": "[encoded data removed]",
      "text/plain": [
       "<Figure size 432x288 with 1 Axes>"
      ]
     },
     "metadata": {
      "needs_background": "light"
     },
     "output_type": "display_data"
    }
   ],
   "source": [
    "for p in np.linspace(0.4, 0.59, 6):\n",
    "    plt.loglog(*compute_cluster_number_density(40, 100, p), \"o\")\n",
    "plt.show()"
   ]
  }
 ],
 "metadata": {
  "kernelspec": {
   "display_name": "Python 3",
   "language": "python",
   "name": "python3"
  },
  "language_info": {
   "codemirror_mode": {
    "name": "ipython",
    "version": 3
   },
   "file_extension": ".py",
   "mimetype": "text/x-python",
   "name": "python",
   "nbconvert_exporter": "python",
   "pygments_lexer": "ipython3",
   "version": "3.6.8"
  }
 },
 "nbformat": 4,
 "nbformat_minor": 2
}
