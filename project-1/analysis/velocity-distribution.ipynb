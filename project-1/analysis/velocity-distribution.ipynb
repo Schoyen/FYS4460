{
 "cells": [
  {
   "cell_type": "code",
   "execution_count": 93,
   "metadata": {
    "collapsed": true
   },
   "outputs": [],
   "source": [
    "import pandas as pd\n",
    "import numpy as np\n",
    "import os\n",
    "import matplotlib.pyplot as plt\n",
    "\n",
    "from read_lammps_dump import read_dump"
   ]
  },
  {
   "cell_type": "code",
   "execution_count": 94,
   "metadata": {},
   "outputs": [],
   "source": [
    "df = read_dump(os.path.join(\"velocity-distribution\", \"dump.lammpstrj\"))"
   ]
  },
  {
   "cell_type": "code",
   "execution_count": 95,
   "metadata": {},
   "outputs": [
    {
     "data": {
      "text/html": [
       "<div>\n",
       "<style scoped>\n",
       "    .dataframe tbody tr th:only-of-type {\n",
       "        vertical-align: middle;\n",
       "    }\n",
       "\n",
       "    .dataframe tbody tr th {\n",
       "        vertical-align: top;\n",
       "    }\n",
       "\n",
       "    .dataframe thead th {\n",
       "        text-align: right;\n",
       "    }\n",
       "</style>\n",
       "<table border=\"1\" class=\"dataframe\">\n",
       "  <thead>\n",
       "    <tr style=\"text-align: right;\">\n",
       "      <th></th>\n",
       "      <th>id</th>\n",
       "      <th>type</th>\n",
       "      <th>x</th>\n",
       "      <th>y</th>\n",
       "      <th>z</th>\n",
       "      <th>vx</th>\n",
       "      <th>vy</th>\n",
       "      <th>vz</th>\n",
       "    </tr>\n",
       "  </thead>\n",
       "  <tbody>\n",
       "    <tr>\n",
       "      <th>0</th>\n",
       "      <td>1</td>\n",
       "      <td>1</td>\n",
       "      <td>0.00000</td>\n",
       "      <td>0.0</td>\n",
       "      <td>0.0</td>\n",
       "      <td>1.012100</td>\n",
       "      <td>0.213251</td>\n",
       "      <td>0.089516</td>\n",
       "    </tr>\n",
       "    <tr>\n",
       "      <th>1</th>\n",
       "      <td>5</td>\n",
       "      <td>1</td>\n",
       "      <td>7.36806</td>\n",
       "      <td>0.0</td>\n",
       "      <td>0.0</td>\n",
       "      <td>-0.153176</td>\n",
       "      <td>1.079850</td>\n",
       "      <td>0.001031</td>\n",
       "    </tr>\n",
       "    <tr>\n",
       "      <th>2</th>\n",
       "      <td>9</td>\n",
       "      <td>1</td>\n",
       "      <td>14.73610</td>\n",
       "      <td>0.0</td>\n",
       "      <td>0.0</td>\n",
       "      <td>-0.720942</td>\n",
       "      <td>-2.585440</td>\n",
       "      <td>-0.917600</td>\n",
       "    </tr>\n",
       "    <tr>\n",
       "      <th>3</th>\n",
       "      <td>13</td>\n",
       "      <td>1</td>\n",
       "      <td>22.10420</td>\n",
       "      <td>0.0</td>\n",
       "      <td>0.0</td>\n",
       "      <td>-2.083530</td>\n",
       "      <td>1.666840</td>\n",
       "      <td>0.965032</td>\n",
       "    </tr>\n",
       "    <tr>\n",
       "      <th>4</th>\n",
       "      <td>17</td>\n",
       "      <td>1</td>\n",
       "      <td>29.47230</td>\n",
       "      <td>0.0</td>\n",
       "      <td>0.0</td>\n",
       "      <td>-2.568510</td>\n",
       "      <td>-2.529350</td>\n",
       "      <td>-2.628410</td>\n",
       "    </tr>\n",
       "  </tbody>\n",
       "</table>\n",
       "</div>"
      ],
      "text/plain": [
       "   id  type         x    y    z        vx        vy        vz\n",
       "0   1     1   0.00000  0.0  0.0  1.012100  0.213251  0.089516\n",
       "1   5     1   7.36806  0.0  0.0 -0.153176  1.079850  0.001031\n",
       "2   9     1  14.73610  0.0  0.0 -0.720942 -2.585440 -0.917600\n",
       "3  13     1  22.10420  0.0  0.0 -2.083530  1.666840  0.965032\n",
       "4  17     1  29.47230  0.0  0.0 -2.568510 -2.529350 -2.628410"
      ]
     },
     "execution_count": 95,
     "metadata": {},
     "output_type": "execute_result"
    }
   ],
   "source": [
    "df.head()"
   ]
  },
  {
   "cell_type": "code",
   "execution_count": 96,
   "metadata": {
    "collapsed": true
   },
   "outputs": [],
   "source": [
    "df[\"v\"] = np.sqrt(df[\"vx\"] ** 2 + df[\"vy\"] ** 2 + df[\"vz\"] ** 2)"
   ]
  },
  {
   "cell_type": "code",
   "execution_count": 97,
   "metadata": {},
   "outputs": [
    {
     "data": {
      "text/html": [
       "<div>\n",
       "<style scoped>\n",
       "    .dataframe tbody tr th:only-of-type {\n",
       "        vertical-align: middle;\n",
       "    }\n",
       "\n",
       "    .dataframe tbody tr th {\n",
       "        vertical-align: top;\n",
       "    }\n",
       "\n",
       "    .dataframe thead th {\n",
       "        text-align: right;\n",
       "    }\n",
       "</style>\n",
       "<table border=\"1\" class=\"dataframe\">\n",
       "  <thead>\n",
       "    <tr style=\"text-align: right;\">\n",
       "      <th></th>\n",
       "      <th>id</th>\n",
       "      <th>type</th>\n",
       "      <th>x</th>\n",
       "      <th>y</th>\n",
       "      <th>z</th>\n",
       "      <th>vx</th>\n",
       "      <th>vy</th>\n",
       "      <th>vz</th>\n",
       "      <th>v</th>\n",
       "    </tr>\n",
       "  </thead>\n",
       "  <tbody>\n",
       "    <tr>\n",
       "      <th>0</th>\n",
       "      <td>1</td>\n",
       "      <td>1</td>\n",
       "      <td>0.00000</td>\n",
       "      <td>0.0</td>\n",
       "      <td>0.0</td>\n",
       "      <td>1.012100</td>\n",
       "      <td>0.213251</td>\n",
       "      <td>0.089516</td>\n",
       "      <td>1.038189</td>\n",
       "    </tr>\n",
       "    <tr>\n",
       "      <th>1</th>\n",
       "      <td>5</td>\n",
       "      <td>1</td>\n",
       "      <td>7.36806</td>\n",
       "      <td>0.0</td>\n",
       "      <td>0.0</td>\n",
       "      <td>-0.153176</td>\n",
       "      <td>1.079850</td>\n",
       "      <td>0.001031</td>\n",
       "      <td>1.090660</td>\n",
       "    </tr>\n",
       "    <tr>\n",
       "      <th>2</th>\n",
       "      <td>9</td>\n",
       "      <td>1</td>\n",
       "      <td>14.73610</td>\n",
       "      <td>0.0</td>\n",
       "      <td>0.0</td>\n",
       "      <td>-0.720942</td>\n",
       "      <td>-2.585440</td>\n",
       "      <td>-0.917600</td>\n",
       "      <td>2.836591</td>\n",
       "    </tr>\n",
       "    <tr>\n",
       "      <th>3</th>\n",
       "      <td>13</td>\n",
       "      <td>1</td>\n",
       "      <td>22.10420</td>\n",
       "      <td>0.0</td>\n",
       "      <td>0.0</td>\n",
       "      <td>-2.083530</td>\n",
       "      <td>1.666840</td>\n",
       "      <td>0.965032</td>\n",
       "      <td>2.837383</td>\n",
       "    </tr>\n",
       "    <tr>\n",
       "      <th>4</th>\n",
       "      <td>17</td>\n",
       "      <td>1</td>\n",
       "      <td>29.47230</td>\n",
       "      <td>0.0</td>\n",
       "      <td>0.0</td>\n",
       "      <td>-2.568510</td>\n",
       "      <td>-2.529350</td>\n",
       "      <td>-2.628410</td>\n",
       "      <td>4.461322</td>\n",
       "    </tr>\n",
       "  </tbody>\n",
       "</table>\n",
       "</div>"
      ],
      "text/plain": [
       "   id  type         x    y    z        vx        vy        vz         v\n",
       "0   1     1   0.00000  0.0  0.0  1.012100  0.213251  0.089516  1.038189\n",
       "1   5     1   7.36806  0.0  0.0 -0.153176  1.079850  0.001031  1.090660\n",
       "2   9     1  14.73610  0.0  0.0 -0.720942 -2.585440 -0.917600  2.836591\n",
       "3  13     1  22.10420  0.0  0.0 -2.083530  1.666840  0.965032  2.837383\n",
       "4  17     1  29.47230  0.0  0.0 -2.568510 -2.529350 -2.628410  4.461322"
      ]
     },
     "execution_count": 97,
     "metadata": {},
     "output_type": "execute_result"
    }
   ],
   "source": [
    "df.head()"
   ]
  },
  {
   "cell_type": "code",
   "execution_count": 98,
   "metadata": {},
   "outputs": [],
   "source": [
    "df[\"timestep\"] = 0"
   ]
  },
  {
   "cell_type": "code",
   "execution_count": 99,
   "metadata": {},
   "outputs": [],
   "source": [
    "num_timesteps = 501\n",
    "num_atoms = 4000\n",
    "\n",
    "for i in range(num_timesteps):\n",
    "    df.loc[i * num_atoms:(i + 1) * num_atoms, \"timestep\"] = i"
   ]
  },
  {
   "cell_type": "code",
   "execution_count": 100,
   "metadata": {},
   "outputs": [
    {
     "data": {
      "text/html": [
       "<div>\n",
       "<style scoped>\n",
       "    .dataframe tbody tr th:only-of-type {\n",
       "        vertical-align: middle;\n",
       "    }\n",
       "\n",
       "    .dataframe tbody tr th {\n",
       "        vertical-align: top;\n",
       "    }\n",
       "\n",
       "    .dataframe thead th {\n",
       "        text-align: right;\n",
       "    }\n",
       "</style>\n",
       "<table border=\"1\" class=\"dataframe\">\n",
       "  <thead>\n",
       "    <tr style=\"text-align: right;\">\n",
       "      <th></th>\n",
       "      <th>id</th>\n",
       "      <th>type</th>\n",
       "      <th>x</th>\n",
       "      <th>y</th>\n",
       "      <th>z</th>\n",
       "      <th>vx</th>\n",
       "      <th>vy</th>\n",
       "      <th>vz</th>\n",
       "      <th>v</th>\n",
       "      <th>timestep</th>\n",
       "    </tr>\n",
       "  </thead>\n",
       "  <tbody>\n",
       "    <tr>\n",
       "      <th>2003995</th>\n",
       "      <td>2146</td>\n",
       "      <td>1</td>\n",
       "      <td>20.6496</td>\n",
       "      <td>70.5749</td>\n",
       "      <td>72.5053</td>\n",
       "      <td>-1.441580</td>\n",
       "      <td>0.016375</td>\n",
       "      <td>1.677140</td>\n",
       "      <td>2.211610</td>\n",
       "      <td>500</td>\n",
       "    </tr>\n",
       "    <tr>\n",
       "      <th>2003996</th>\n",
       "      <td>2998</td>\n",
       "      <td>1</td>\n",
       "      <td>22.3193</td>\n",
       "      <td>72.7661</td>\n",
       "      <td>73.1262</td>\n",
       "      <td>-0.774966</td>\n",
       "      <td>-1.859060</td>\n",
       "      <td>-0.652021</td>\n",
       "      <td>2.117028</td>\n",
       "      <td>500</td>\n",
       "    </tr>\n",
       "    <tr>\n",
       "      <th>2003997</th>\n",
       "      <td>71</td>\n",
       "      <td>1</td>\n",
       "      <td>38.6321</td>\n",
       "      <td>72.0330</td>\n",
       "      <td>73.1013</td>\n",
       "      <td>0.126816</td>\n",
       "      <td>-0.569508</td>\n",
       "      <td>-0.575847</td>\n",
       "      <td>0.819769</td>\n",
       "      <td>500</td>\n",
       "    </tr>\n",
       "    <tr>\n",
       "      <th>2003998</th>\n",
       "      <td>1433</td>\n",
       "      <td>1</td>\n",
       "      <td>67.9368</td>\n",
       "      <td>73.1790</td>\n",
       "      <td>72.2959</td>\n",
       "      <td>-2.354610</td>\n",
       "      <td>1.715020</td>\n",
       "      <td>-0.330291</td>\n",
       "      <td>2.931650</td>\n",
       "      <td>500</td>\n",
       "    </tr>\n",
       "    <tr>\n",
       "      <th>2003999</th>\n",
       "      <td>980</td>\n",
       "      <td>1</td>\n",
       "      <td>70.9225</td>\n",
       "      <td>73.3010</td>\n",
       "      <td>72.1290</td>\n",
       "      <td>0.398853</td>\n",
       "      <td>-3.297080</td>\n",
       "      <td>2.541540</td>\n",
       "      <td>4.182015</td>\n",
       "      <td>500</td>\n",
       "    </tr>\n",
       "  </tbody>\n",
       "</table>\n",
       "</div>"
      ],
      "text/plain": [
       "           id  type        x        y        z        vx        vy        vz  \\\n",
       "2003995  2146     1  20.6496  70.5749  72.5053 -1.441580  0.016375  1.677140   \n",
       "2003996  2998     1  22.3193  72.7661  73.1262 -0.774966 -1.859060 -0.652021   \n",
       "2003997    71     1  38.6321  72.0330  73.1013  0.126816 -0.569508 -0.575847   \n",
       "2003998  1433     1  67.9368  73.1790  72.2959 -2.354610  1.715020 -0.330291   \n",
       "2003999   980     1  70.9225  73.3010  72.1290  0.398853 -3.297080  2.541540   \n",
       "\n",
       "                v  timestep  \n",
       "2003995  2.211610       500  \n",
       "2003996  2.117028       500  \n",
       "2003997  0.819769       500  \n",
       "2003998  2.931650       500  \n",
       "2003999  4.182015       500  "
      ]
     },
     "execution_count": 100,
     "metadata": {},
     "output_type": "execute_result"
    }
   ],
   "source": [
    "df.tail()"
   ]
  },
  {
   "cell_type": "code",
   "execution_count": 105,
   "metadata": {},
   "outputs": [
    {
     "data": {
      "image/png": "[encoded data removed]",
      "text/plain": [
       "<matplotlib.figure.Figure at 0x112b23278>"
      ]
     },
     "metadata": {},
     "output_type": "display_data"
    },
    {
     "data": {
      "image/png": "[encoded data removed]",
      "text/plain": [
       "<matplotlib.figure.Figure at 0x11216be10>"
      ]
     },
     "metadata": {},
     "output_type": "display_data"
    },
    {
     "data": {
      "image/png": "[encoded data removed]",
      "text/plain": [
       "<matplotlib.figure.Figure at 0x112896940>"
      ]
     },
     "metadata": {},
     "output_type": "display_data"
    }
   ],
   "source": [
    "hist = df.head(4000).hist(bins=20, column=[\"vy\"])\n",
    "df[250 * 4000:251 * 4000].hist(bins=20, column=[\"vy\"])\n",
    "df.tail(4000).hist(bins=20, column=[\"vy\"])\n",
    "plt.show()"
   ]
  }
 ],
 "metadata": {
  "kernelspec": {
   "display_name": "Python 3",
   "language": "python",
   "name": "python3"
  },
  "language_info": {
   "codemirror_mode": {
    "name": "ipython",
    "version": 3
   },
   "file_extension": ".py",
   "mimetype": "text/x-python",
   "name": "python",
   "nbconvert_exporter": "python",
   "pygments_lexer": "ipython3",
   "version": "3.6.8"
  }
 },
 "nbformat": 4,
 "nbformat_minor": 2
}
